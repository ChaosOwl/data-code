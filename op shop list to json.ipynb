{
 "cells": [
  {
   "cell_type": "code",
   "execution_count": 1,
   "metadata": {},
   "outputs": [],
   "source": [
    "import json\n",
    "import pandas as pd\n",
    "pd.options.mode.chained_assignment = None  # default='warn'"
   ]
  },
  {
   "cell_type": "code",
   "execution_count": 2,
   "metadata": {},
   "outputs": [],
   "source": [
    "import re\n",
    "import xlwt\n",
    "import numpy as np\n",
    "import requests\n",
    "import urllib.error\n",
    "import urllib.parse\n",
    "import json\n",
    "import time"
   ]
  },
  {
   "cell_type": "code",
   "execution_count": 3,
   "metadata": {},
   "outputs": [],
   "source": [
    "dataframe = pd.read_csv('op_shop_list.csv')"
   ]
  },
  {
   "cell_type": "code",
   "execution_count": 4,
   "metadata": {},
   "outputs": [
    {
     "data": {
      "text/html": [
       "<div>\n",
       "<style scoped>\n",
       "    .dataframe tbody tr th:only-of-type {\n",
       "        vertical-align: middle;\n",
       "    }\n",
       "\n",
       "    .dataframe tbody tr th {\n",
       "        vertical-align: top;\n",
       "    }\n",
       "\n",
       "    .dataframe thead th {\n",
       "        text-align: right;\n",
       "    }\n",
       "</style>\n",
       "<table border=\"1\" class=\"dataframe\">\n",
       "  <thead>\n",
       "    <tr style=\"text-align: right;\">\n",
       "      <th></th>\n",
       "      <th>Unnamed: 0</th>\n",
       "      <th>name</th>\n",
       "      <th>address</th>\n",
       "      <th>opentime</th>\n",
       "      <th>lat</th>\n",
       "      <th>lng</th>\n",
       "    </tr>\n",
       "  </thead>\n",
       "  <tbody>\n",
       "    <tr>\n",
       "      <th>0</th>\n",
       "      <td>0</td>\n",
       "      <td>Salvos</td>\n",
       "      <td>69 Bourke Street Melbourne</td>\n",
       "      <td>Mon - Fri 10am-6pm\\nSat 10am-4pm\\nSun Closed\\n</td>\n",
       "      <td>-37.812081</td>\n",
       "      <td>144.971416</td>\n",
       "    </tr>\n",
       "    <tr>\n",
       "      <th>1</th>\n",
       "      <td>1</td>\n",
       "      <td>Brotherhood City Basement</td>\n",
       "      <td>Basement, Royal Arcade,Bourke Street Mall, Mel...</td>\n",
       "      <td>Mon - Fri 9am to 4:45pm\\nSat 9:30am to 3:30pm\\n</td>\n",
       "      <td>-37.814539</td>\n",
       "      <td>144.964094</td>\n",
       "    </tr>\n",
       "    <tr>\n",
       "      <th>2</th>\n",
       "      <td>2</td>\n",
       "      <td>hunter gatherer City Ground Floor</td>\n",
       "      <td>Ground Floor, Royal Arcade, Melbourne</td>\n",
       "      <td>Mon - Fri 10 am to 5.15 pm\\nSat 10 am to 4:45 ...</td>\n",
       "      <td>-37.814712</td>\n",
       "      <td>144.964083</td>\n",
       "    </tr>\n",
       "    <tr>\n",
       "      <th>3</th>\n",
       "      <td>3</td>\n",
       "      <td>The Conscious Closet</td>\n",
       "      <td>Queen Victoria Women's Centre, Ground Floor 21...</td>\n",
       "      <td>Tue - Sat 12 - 5PM\\n</td>\n",
       "      <td>-37.810964</td>\n",
       "      <td>144.965903</td>\n",
       "    </tr>\n",
       "    <tr>\n",
       "      <th>4</th>\n",
       "      <td>4</td>\n",
       "      <td>Savers Footscray</td>\n",
       "      <td>33 Albert St, Footscray</td>\n",
       "      <td>Mon - Wed 9am - 8pm\\nThu - Fri 9am - 9pm\\nSat ...</td>\n",
       "      <td>-37.801721</td>\n",
       "      <td>144.898025</td>\n",
       "    </tr>\n",
       "  </tbody>\n",
       "</table>\n",
       "</div>"
      ],
      "text/plain": [
       "   Unnamed: 0                               name  \\\n",
       "0           0                             Salvos   \n",
       "1           1          Brotherhood City Basement   \n",
       "2           2  hunter gatherer City Ground Floor   \n",
       "3           3               The Conscious Closet   \n",
       "4           4                   Savers Footscray   \n",
       "\n",
       "                                             address  \\\n",
       "0                        69 Bourke Street Melbourne    \n",
       "1  Basement, Royal Arcade,Bourke Street Mall, Mel...   \n",
       "2              Ground Floor, Royal Arcade, Melbourne   \n",
       "3  Queen Victoria Women's Centre, Ground Floor 21...   \n",
       "4                            33 Albert St, Footscray   \n",
       "\n",
       "                                            opentime        lat         lng  \n",
       "0     Mon - Fri 10am-6pm\\nSat 10am-4pm\\nSun Closed\\n -37.812081  144.971416  \n",
       "1    Mon - Fri 9am to 4:45pm\\nSat 9:30am to 3:30pm\\n -37.814539  144.964094  \n",
       "2  Mon - Fri 10 am to 5.15 pm\\nSat 10 am to 4:45 ... -37.814712  144.964083  \n",
       "3                               Tue - Sat 12 - 5PM\\n -37.810964  144.965903  \n",
       "4  Mon - Wed 9am - 8pm\\nThu - Fri 9am - 9pm\\nSat ... -37.801721  144.898025  "
      ]
     },
     "execution_count": 4,
     "metadata": {},
     "output_type": "execute_result"
    }
   ],
   "source": [
    "dataframe.head()"
   ]
  },
  {
   "cell_type": "code",
   "execution_count": 6,
   "metadata": {},
   "outputs": [],
   "source": [
    "jsonlist = []\n",
    "for i in range(len(dataframe)):\n",
    "    aItem = {}\n",
    "    aItem[\"id\"] = i\n",
    "    aItem[\"name\"] = dataframe['name'][i]\n",
    "    aItem[\"address\"] = dataframe['address'][i]\n",
    "    aItem['opentime'] = dataframe['opentime'][i]\n",
    "    aItem['lat'] = dataframe['lat'][i]\n",
    "    aItem['lng'] = dataframe['lng'][i]\n",
    "    aJson = json.dumps(aItem)\n",
    "    jsonlist.append(aItem)"
   ]
  },
  {
   "cell_type": "code",
   "execution_count": 7,
   "metadata": {},
   "outputs": [],
   "source": [
    "savefile = 'opshop-list.json'\n",
    "\n",
    "with open(savefile, 'w') as f:\n",
    "    f.write(json.dumps(jsonlist))"
   ]
  },
  {
   "cell_type": "code",
   "execution_count": 6,
   "metadata": {},
   "outputs": [
    {
     "data": {
      "text/plain": [
       "'-37.8145386'"
      ]
     },
     "execution_count": 6,
     "metadata": {},
     "output_type": "execute_result"
    }
   ],
   "source": [
    "str(dataframe['lat'][1])"
   ]
  },
  {
   "cell_type": "code",
   "execution_count": null,
   "metadata": {},
   "outputs": [],
   "source": []
  }
 ],
 "metadata": {
  "kernelspec": {
   "display_name": "Python 3",
   "language": "python",
   "name": "python3"
  },
  "language_info": {
   "codemirror_mode": {
    "name": "ipython",
    "version": 3
   },
   "file_extension": ".py",
   "mimetype": "text/x-python",
   "name": "python",
   "nbconvert_exporter": "python",
   "pygments_lexer": "ipython3",
   "version": "3.6.4"
  }
 },
 "nbformat": 4,
 "nbformat_minor": 2
}
