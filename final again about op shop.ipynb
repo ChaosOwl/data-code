{
 "cells": [
  {
   "cell_type": "code",
   "execution_count": 12,
   "metadata": {},
   "outputs": [],
   "source": [
    "import requests\n",
    "import urllib.error\n",
    "import urllib.parse\n",
    "from urllib import request\n",
    "import json\n",
    "import pandas as pd\n",
    "pd.options.mode.chained_assignment = None\n",
    "import numpy as np\n",
    "import re\n",
    "import time"
   ]
  },
  {
   "cell_type": "code",
   "execution_count": 13,
   "metadata": {},
   "outputs": [],
   "source": [
    "df = pd.read_csv('op shop list only id.csv')"
   ]
  },
  {
   "cell_type": "code",
   "execution_count": 14,
   "metadata": {},
   "outputs": [],
   "source": [
    "df['website'] = ''"
   ]
  },
  {
   "cell_type": "code",
   "execution_count": 15,
   "metadata": {},
   "outputs": [],
   "source": [
    "def read_the_url(urllink):\n",
    "    res = requests.get(urllink)\n",
    "    js = json.loads(res.text)\n",
    "    return js\n",
    "\n",
    "\n",
    "def test_token(js):\n",
    "    try:\n",
    "        token = js['next_page_token']\n",
    "    except KeyError:\n",
    "        return True ### there is no token\n",
    "    else:\n",
    "        return False ### there is a token\n",
    "    \n",
    "    \n",
    "def get_the_place_id(url):\n",
    "    list_of_name=[]\n",
    "    place_id_list=[]\n",
    "    js = read_the_url(url)\n",
    "    \n",
    "    for i in range(1,4):\n",
    "        if test_token(js) is True:\n",
    "            for item in js['results']:\n",
    "                list_of_name.append(item['name'])\n",
    "                place_id_list.append(item['place_id'])\n",
    "            break\n",
    "        else:\n",
    "            token = js['next_page_token']\n",
    "            URL = \"https://maps.googleapis.com/maps/api/place/nearbysearch/json?pagetoken=\" + token + \"&key=\" #add your key\n",
    "            for item in js['results']:\n",
    "                list_of_name.append(item['name'])\n",
    "                place_id_list.append(item['place_id'])\n",
    "            time.sleep(2)\n",
    "            js = read_the_url(URL)\n",
    "        \n",
    "    df = pd.DataFrame(list_of_name, columns=['name'])\n",
    "    df = pd.concat([df, pd.DataFrame(place_id_list,columns=['place_id'])],axis=1)\n",
    "    \n",
    "    return df\n",
    "\n",
    "\n",
    "def get_street_address_and_suburb(detail):\n",
    "    street_address = ''\n",
    "    suburb_info = ''\n",
    "    street_number = ''\n",
    "    route = ''\n",
    "    suburb = ''\n",
    "    for item in detail['result']['address_components']:\n",
    "        if item['types'] == ['street_number']:\n",
    "            street_number = item['long_name']\n",
    "        \n",
    "        elif item['types'] == ['route']:\n",
    "            route = item['long_name']\n",
    "            \n",
    "        elif item['types'] == ['locality', 'political']:\n",
    "            suburb = item['long_name']\n",
    "            \n",
    "    street_address = street_number + ' '+ route\n",
    "    suburb_info = suburb\n",
    "    \n",
    "    return street_address, suburb_info"
   ]
  },
  {
   "cell_type": "code",
   "execution_count": 16,
   "metadata": {},
   "outputs": [],
   "source": [
    "for i in range(len(df)):\n",
    "    place_id = df['place_id'][i]\n",
    "    URL_of_place_id = \"https://maps.googleapis.com/maps/api/place/details/json?place_id=\" + place_id + \"&key=\" #add your key\n",
    "    detail = read_the_url(URL_of_place_id)\n",
    "    df['address'][i] = detail['result']['formatted_address']\n",
    "    df['lat'][i] = detail['result']['geometry']['location']['lat']\n",
    "    df['lng'][i] = detail['result']['geometry']['location']['lng']\n",
    "    street, suburb = get_street_address_and_suburb(detail)\n",
    "     \n",
    "    try:\n",
    "        df['phone_number'][i] =  detail['result']['formatted_phone_number']\n",
    "    except KeyError:\n",
    "        df['phone_number'][i] = 'unknown'\n",
    "    else:\n",
    "        df['phone_number'][i] = detail['result']['formatted_phone_number']\n",
    "        \n",
    "    try:\n",
    "        df['website'][i] =  detail['result']['website']\n",
    "    except KeyError:\n",
    "        df['website'][i] = 'No website available'\n",
    "    else:\n",
    "        df['website'][i] = detail['result']['website']\n",
    "        \n",
    "    try:\n",
    "        df['rating'][i] =  detail['result']['rating']\n",
    "    except KeyError:\n",
    "        df['rating'][i] = 'no rating'\n",
    "    else:\n",
    "        df['rating'][i] = detail['result']['rating']\n",
    "        \n",
    "    try:\n",
    "        detail['result']['opening_hours']['weekday_text']\n",
    "    except KeyError:\n",
    "        df['Monday'][i] = 'please call for detail'\n",
    "        df['Tuesday'][i] = 'please call for detail'\n",
    "        df['Wednesday'][i] = 'please call for detail'\n",
    "        df['Thursday'][i] = 'please call for detail'\n",
    "        df['Friday'][i] = 'please call for detail'\n",
    "        df['Saturday'][i] = 'please call for detail'\n",
    "        df['Sunday'][i] = 'please call for detail'\n",
    "    else:\n",
    "        df['Monday'][i] = detail['result']['opening_hours']['weekday_text'][0].replace(' – ',' to ')\n",
    "        df['Tuesday'][i] = detail['result']['opening_hours']['weekday_text'][1].replace(' – ',' to ')\n",
    "        df['Wednesday'][i] = detail['result']['opening_hours']['weekday_text'][2].replace(' – ',' to ')\n",
    "        df['Thursday'][i] = detail['result']['opening_hours']['weekday_text'][3].replace(' – ',' to ')\n",
    "        df['Friday'][i] = detail['result']['opening_hours']['weekday_text'][4].replace(' – ',' to ')\n",
    "        df['Saturday'][i] = detail['result']['opening_hours']['weekday_text'][5].replace(' – ',' to ')\n",
    "        df['Sunday'][i] = detail['result']['opening_hours']['weekday_text'][6].replace(' – ',' to ')\n",
    "    \n",
    "    df['street_address'][i] = street\n",
    "    df['suburb'][i] = suburb\n",
    "        \n"
   ]
  },
  {
   "cell_type": "code",
   "execution_count": 17,
   "metadata": {},
   "outputs": [],
   "source": [
    "for i in range(len(df)):\n",
    "    df['Monday'][i] = df['Monday'][i].replace('Monday:','')\n",
    "    df['Tuesday'][i] = df['Tuesday'][i].replace('Tuesday:','')\n",
    "    df['Wednesday'][i] = df['Wednesday'][i].replace('Wednesday:','')\n",
    "    df['Thursday'][i] = df['Thursday'][i].replace('Thursday:','')\n",
    "    df['Friday'][i] = df['Friday'][i].replace('Friday:','')\n",
    "    df['Saturday'][i] = df['Saturday'][i].replace('Saturday:','')\n",
    "    df['Sunday'][i] = df['Sunday'][i].replace('Sunday:','')"
   ]
  },
  {
   "cell_type": "code",
   "execution_count": 18,
   "metadata": {},
   "outputs": [],
   "source": [
    "df.to_csv('final op shop list.csv')"
   ]
  },
  {
   "cell_type": "code",
   "execution_count": 19,
   "metadata": {},
   "outputs": [],
   "source": [
    "jsonlist = []\n",
    "for i in range(len(df)):\n",
    "    aItem = {}\n",
    "    aItem[\"id\"] = i\n",
    "    aItem[\"name\"] = df['name'][i]\n",
    "    aItem[\"address\"] = df['address'][i]\n",
    "    aItem['lat'] = df['lat'][i]\n",
    "    aItem['lng'] = df['lng'][i]\n",
    "    aItem['street'] = df['street_address'][i]\n",
    "    aItem['suburb'] = df['suburb'][i]\n",
    "    aItem['phone'] = df ['phone_number'][i]\n",
    "    aItem['Monday'] = df['Monday'][i]\n",
    "    aItem['Tuesday'] = df['Tuesday'][i]\n",
    "    aItem['Wednesday'] = df['Wednesday'][i]\n",
    "    aItem['Thursday'] = df['Thursday'][i]\n",
    "    aItem['Friday'] = df['Friday'][i]\n",
    "    aItem['Saturday'] = df['Saturday'][i]\n",
    "    aItem['Sunday'] = df['Sunday'][i]\n",
    "    \n",
    "    aItem['website'] = df['website'][i]\n",
    "    aJson = json.dumps(aItem)\n",
    "    jsonlist.append(aItem)"
   ]
  },
  {
   "cell_type": "code",
   "execution_count": 20,
   "metadata": {},
   "outputs": [],
   "source": [
    "savefile = 'final op shop list.json'\n",
    "\n",
    "with open(savefile, 'w') as f:\n",
    "    f.write(json.dumps(jsonlist))"
   ]
  },
  {
   "cell_type": "code",
   "execution_count": null,
   "metadata": {},
   "outputs": [],
   "source": []
  },
  {
   "cell_type": "code",
   "execution_count": null,
   "metadata": {},
   "outputs": [],
   "source": []
  },
  {
   "cell_type": "code",
   "execution_count": null,
   "metadata": {},
   "outputs": [],
   "source": []
  }
 ],
 "metadata": {
  "kernelspec": {
   "display_name": "Python 3",
   "language": "python",
   "name": "python3"
  },
  "language_info": {
   "codemirror_mode": {
    "name": "ipython",
    "version": 3
   },
   "file_extension": ".py",
   "mimetype": "text/x-python",
   "name": "python",
   "nbconvert_exporter": "python",
   "pygments_lexer": "ipython3",
   "version": "3.6.4"
  }
 },
 "nbformat": 4,
 "nbformat_minor": 2
}
