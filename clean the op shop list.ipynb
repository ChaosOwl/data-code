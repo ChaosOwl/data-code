{
 "cells": [
  {
   "cell_type": "code",
   "execution_count": 1,
   "metadata": {},
   "outputs": [],
   "source": [
    "import re\n",
    "import xlwt\n",
    "import pandas as pd\n",
    "import numpy as np\n",
    "import requests\n",
    "import urllib.error\n",
    "import urllib.parse\n",
    "import json\n",
    "import time\n",
    "pd.options.mode.chained_assignment = None  # default='warn'"
   ]
  },
  {
   "cell_type": "code",
   "execution_count": 2,
   "metadata": {},
   "outputs": [],
   "source": [
    "with open('view-source_https___opshop.org_list_VIC_.html', \"r\", encoding=\"utf-8\") as f:\n",
    "            file = f.read()"
   ]
  },
  {
   "cell_type": "code",
   "execution_count": 3,
   "metadata": {},
   "outputs": [],
   "source": [
    "store = re.findall(r'<span class=\"html-tag\">&lt;span <span class=\"html-attribute-name\">class</span>=\\'<span class=\"html-attribute-value\">screenBreak</span>\\'&gt;</span>(.*?)id</span>=\\'<span class=\"html-attribute-value\">ID', file)"
   ]
  },
  {
   "cell_type": "code",
   "execution_count": 5,
   "metadata": {},
   "outputs": [],
   "source": [
    "#file"
   ]
  },
  {
   "cell_type": "code",
   "execution_count": 6,
   "metadata": {},
   "outputs": [],
   "source": [
    "list_of_name = ['null']*len(store)\n",
    "list_of_address = ['null']*len(store)\n",
    "list_of_time = ['null']*len(store)"
   ]
  },
  {
   "cell_type": "code",
   "execution_count": 7,
   "metadata": {},
   "outputs": [],
   "source": [
    "for i in range(len(store)):\n",
    "    name = re.findall(r'(.*?)<span class=\"html-tag\">&lt;/span&gt;</span><span class=\"html-tag\">&lt;/a&gt;</span>',store[i])\n",
    "    list_of_name[i] = name[0]\n",
    "    address = re.findall(r'<span class=\"html-tag\">&lt;br /&gt;</span>(.*?)<span class=\"html-tag\">&lt;/a&gt;</span></td></tr><tr>',store[i])\n",
    "    list_of_address[i] = address[0]\n",
    "    opentime = re.findall(r'col-xs-4</span>(.*?)&amp;nbsp|col-xs-4</span>(.*?)<span class=\"html-tag\">&lt;br /&gt;</span>&amp;nbsp',store[i])\n",
    "    opentime = list(opentime[0])\n",
    "    opentime += ['null']\n",
    "    time_detail = re.split(r'\\'&gt;</span>|<span class=\"html-tag\">&lt;br /&gt;</span>|<span class=\"html-tag\">&lt;br/&gt;</span>|<span class=\"html-tag\">&lt;b',opentime[0])\n",
    "    list_of_time[i] = time_detail"
   ]
  },
  {
   "cell_type": "code",
   "execution_count": 8,
   "metadata": {},
   "outputs": [],
   "source": [
    "for i in range(len(store)):\n",
    "    for j in range(len(list_of_time[i])):\n",
    "        list_of_time[i][j] = re.sub(r'amp;amp;','',list_of_time[i][j])"
   ]
  },
  {
   "cell_type": "code",
   "execution_count": 9,
   "metadata": {},
   "outputs": [],
   "source": [
    "for i in range(len(store)):\n",
    "    list_of_address[i] = re.sub(r'amp;amp;','',list_of_address[i])"
   ]
  },
  {
   "cell_type": "code",
   "execution_count": 10,
   "metadata": {},
   "outputs": [],
   "source": [
    "def meltlist(kk):\n",
    "    string = ''\n",
    "    for i in range(len(kk)):\n",
    "        if kk[i] == '':\n",
    "            string = string\n",
    "        else:\n",
    "            string += kk[i]\n",
    "            string += '\\n'\n",
    "    return string  "
   ]
  },
  {
   "cell_type": "code",
   "execution_count": 11,
   "metadata": {},
   "outputs": [],
   "source": [
    "for i in range(len(list_of_time)):\n",
    "    list_of_time[i] = meltlist(list_of_time[i])"
   ]
  },
  {
   "cell_type": "code",
   "execution_count": 12,
   "metadata": {},
   "outputs": [],
   "source": [
    "df = pd.DataFrame(list_of_name, columns=['name'])\n",
    "df = pd.concat([df, pd.DataFrame(list_of_address,columns=['address'])],axis=1)\n",
    "df = pd.concat([df, pd.DataFrame(list_of_time,columns=['opentime'])],axis=1)"
   ]
  },
  {
   "cell_type": "code",
   "execution_count": 13,
   "metadata": {},
   "outputs": [],
   "source": [
    "df.opentime = df.opentime.replace('','Unknown\\n')"
   ]
  },
  {
   "cell_type": "code",
   "execution_count": 16,
   "metadata": {},
   "outputs": [],
   "source": [
    "df['lat'] = ''\n",
    "df['lng'] = ''"
   ]
  },
  {
   "cell_type": "code",
   "execution_count": 17,
   "metadata": {},
   "outputs": [],
   "source": [
    "def get_latitude_longtitude(address):\n",
    "    # decode url\n",
    "    address = urllib.parse.quote(address)\n",
    "    url = \"https://maps.googleapis.com/maps/api/geocode/json?address=\" + address + \"&key=\" #add your key    \n",
    "    while True:\n",
    "        res = requests.get(url)\n",
    "        js = json.loads(res.text)\n",
    "\n",
    "        if js[\"status\"] != \"OVER_QUERY_LIMIT\":\n",
    "            time.sleep(1)\n",
    "            break\n",
    "\n",
    "    result = js[\"results\"][0][\"geometry\"][\"location\"]\n",
    "    lat = result[\"lat\"]\n",
    "    lng = result[\"lng\"]\n",
    "\n",
    "    return lat, lng"
   ]
  },
  {
   "cell_type": "code",
   "execution_count": 18,
   "metadata": {},
   "outputs": [],
   "source": [
    "# extra edit\n",
    "df['address'][169] = '126 Canterbury Rd, Bayswater North VIC 3153'\n",
    "df['address'][440] = 'Shop 9/10 Village Walk, Drysdale VIC 3222'\n",
    "df['address'][468] = '178 Manifold St, Camperdown VIC 3260'\n",
    "df['address'][539] = '2/8 Selkirk Ave, McKinnon VIC 3204'\n",
    "df['address'][797] = '8 Ninth Ave, Rosebud VIC 3939'"
   ]
  },
  {
   "cell_type": "code",
   "execution_count": 19,
   "metadata": {},
   "outputs": [],
   "source": [
    "for i in range(len(df)):\n",
    "    if i >= 0:      \n",
    "        address = df['address'][i]\n",
    "        lat, lng = get_latitude_longtitude(address)\n",
    "        df['lat'][i] = lat\n",
    "        df['lng'][i] = lng\n"
   ]
  },
  {
   "cell_type": "code",
   "execution_count": 20,
   "metadata": {},
   "outputs": [],
   "source": [
    "for i in range(len(df)):\n",
    "    if df['lat'][i] > 0:\n",
    "        df['address'][i] += ' VIC'"
   ]
  },
  {
   "cell_type": "code",
   "execution_count": 21,
   "metadata": {},
   "outputs": [
    {
     "data": {
      "text/html": [
       "<div>\n",
       "<style scoped>\n",
       "    .dataframe tbody tr th:only-of-type {\n",
       "        vertical-align: middle;\n",
       "    }\n",
       "\n",
       "    .dataframe tbody tr th {\n",
       "        vertical-align: top;\n",
       "    }\n",
       "\n",
       "    .dataframe thead th {\n",
       "        text-align: right;\n",
       "    }\n",
       "</style>\n",
       "<table border=\"1\" class=\"dataframe\">\n",
       "  <thead>\n",
       "    <tr style=\"text-align: right;\">\n",
       "      <th></th>\n",
       "      <th>name</th>\n",
       "      <th>address</th>\n",
       "      <th>opentime</th>\n",
       "      <th>lat</th>\n",
       "      <th>lng</th>\n",
       "    </tr>\n",
       "  </thead>\n",
       "  <tbody>\n",
       "    <tr>\n",
       "      <th>27</th>\n",
       "      <td>Brotherhood Deer Park</td>\n",
       "      <td>Shop 1, 112-116  Westwood Dr, Deer Park VIC</td>\n",
       "      <td>Mon - Fri 9.30 am to 5 pm\\nSat 10 am to 3 pm\\n</td>\n",
       "      <td>40.4333</td>\n",
       "      <td>-84.9773</td>\n",
       "    </tr>\n",
       "    <tr>\n",
       "      <th>91</th>\n",
       "      <td>St Marks RECYCLED</td>\n",
       "      <td>298 Smith Street VIC</td>\n",
       "      <td>Mon - Fri 11:00am - 5:00pm\\nSat 11:00am - 5.00...</td>\n",
       "      <td>40.6819</td>\n",
       "      <td>-73.9939</td>\n",
       "    </tr>\n",
       "    <tr>\n",
       "      <th>101</th>\n",
       "      <td>Penny Pinchers</td>\n",
       "      <td>Work For The Soul VIC</td>\n",
       "      <td>Mon - Thu 8.30 - 4.00\\nFri - Sat Opening soon\\...</td>\n",
       "      <td>35.6495</td>\n",
       "      <td>-97.4599</td>\n",
       "    </tr>\n",
       "    <tr>\n",
       "      <th>157</th>\n",
       "      <td>Red Cross</td>\n",
       "      <td>191 Bridge Road VIC</td>\n",
       "      <td>Mon - Thu 10am - 6pm\\nFri 10am - 7pm\\nSat 10am...</td>\n",
       "      <td>42.3442</td>\n",
       "      <td>-72.6727</td>\n",
       "    </tr>\n",
       "    <tr>\n",
       "      <th>371</th>\n",
       "      <td>Recycle Super store</td>\n",
       "      <td>47 Excelsior Drive VIC</td>\n",
       "      <td>Mon - Fri 9am - 5pm\\nSat 9am -2pm\\n</td>\n",
       "      <td>43.0748</td>\n",
       "      <td>-89.5252</td>\n",
       "    </tr>\n",
       "    <tr>\n",
       "      <th>445</th>\n",
       "      <td>Salvos Thrift Shop Leopold</td>\n",
       "      <td>49 Ash Road VIC</td>\n",
       "      <td>Mon - Fri 10am - 4pm\\nSat 10am - 2pm\\n</td>\n",
       "      <td>41.1063</td>\n",
       "      <td>-73.9887</td>\n",
       "    </tr>\n",
       "    <tr>\n",
       "      <th>504</th>\n",
       "      <td>Joyces Junkatique</td>\n",
       "      <td>38 Main Rd VIC</td>\n",
       "      <td>Unknown\\n</td>\n",
       "      <td>41.614</td>\n",
       "      <td>-71.2571</td>\n",
       "    </tr>\n",
       "    <tr>\n",
       "      <th>508</th>\n",
       "      <td>Ballarat Bargain Browser</td>\n",
       "      <td>10 Eastwood St VIC</td>\n",
       "      <td>Mon - Fri 9am -4.30 pm\\nSat 9am - 1pm\\n</td>\n",
       "      <td>29.7486</td>\n",
       "      <td>-95.3302</td>\n",
       "    </tr>\n",
       "    <tr>\n",
       "      <th>510</th>\n",
       "      <td>Outreach Furniture Shop</td>\n",
       "      <td>102 Albert St VIC</td>\n",
       "      <td>Unknown\\n</td>\n",
       "      <td>42.9268</td>\n",
       "      <td>-78.7008</td>\n",
       "    </tr>\n",
       "    <tr>\n",
       "      <th>595</th>\n",
       "      <td>Salvation Army</td>\n",
       "      <td>Epsom Shopping Centre, EPSOM VIC</td>\n",
       "      <td>Unknown\\n</td>\n",
       "      <td>51.3324</td>\n",
       "      <td>-0.268324</td>\n",
       "    </tr>\n",
       "    <tr>\n",
       "      <th>756</th>\n",
       "      <td>St Peter's Op Shop</td>\n",
       "      <td>1 Allan Drive VIC</td>\n",
       "      <td>Mon - Fri 10am - 3pm\\nSat 10am - 12pm\\nSun Clo...</td>\n",
       "      <td>42.4282</td>\n",
       "      <td>-71.4716</td>\n",
       "    </tr>\n",
       "    <tr>\n",
       "      <th>796</th>\n",
       "      <td>Uniting Church Opportunity Shop</td>\n",
       "      <td>Shop 5 Nepean Plaza VIC</td>\n",
       "      <td>Unknown\\n</td>\n",
       "      <td>45.3529</td>\n",
       "      <td>-75.7332</td>\n",
       "    </tr>\n",
       "    <tr>\n",
       "      <th>829</th>\n",
       "      <td>Used To Be New</td>\n",
       "      <td>Rossiter Road VIC</td>\n",
       "      <td>Unknown\\n</td>\n",
       "      <td>43.0178</td>\n",
       "      <td>-76.0884</td>\n",
       "    </tr>\n",
       "  </tbody>\n",
       "</table>\n",
       "</div>"
      ],
      "text/plain": [
       "                                name  \\\n",
       "27             Brotherhood Deer Park   \n",
       "91                 St Marks RECYCLED   \n",
       "101                   Penny Pinchers   \n",
       "157                        Red Cross   \n",
       "371              Recycle Super store   \n",
       "445       Salvos Thrift Shop Leopold   \n",
       "504                Joyces Junkatique   \n",
       "508         Ballarat Bargain Browser   \n",
       "510          Outreach Furniture Shop   \n",
       "595                   Salvation Army   \n",
       "756               St Peter's Op Shop   \n",
       "796  Uniting Church Opportunity Shop   \n",
       "829                   Used To Be New   \n",
       "\n",
       "                                         address  \\\n",
       "27   Shop 1, 112-116  Westwood Dr, Deer Park VIC   \n",
       "91                          298 Smith Street VIC   \n",
       "101                        Work For The Soul VIC   \n",
       "157                          191 Bridge Road VIC   \n",
       "371                       47 Excelsior Drive VIC   \n",
       "445                              49 Ash Road VIC   \n",
       "504                               38 Main Rd VIC   \n",
       "508                           10 Eastwood St VIC   \n",
       "510                            102 Albert St VIC   \n",
       "595             Epsom Shopping Centre, EPSOM VIC   \n",
       "756                            1 Allan Drive VIC   \n",
       "796                      Shop 5 Nepean Plaza VIC   \n",
       "829                            Rossiter Road VIC   \n",
       "\n",
       "                                              opentime      lat       lng  \n",
       "27      Mon - Fri 9.30 am to 5 pm\\nSat 10 am to 3 pm\\n  40.4333  -84.9773  \n",
       "91   Mon - Fri 11:00am - 5:00pm\\nSat 11:00am - 5.00...  40.6819  -73.9939  \n",
       "101  Mon - Thu 8.30 - 4.00\\nFri - Sat Opening soon\\...  35.6495  -97.4599  \n",
       "157  Mon - Thu 10am - 6pm\\nFri 10am - 7pm\\nSat 10am...  42.3442  -72.6727  \n",
       "371                Mon - Fri 9am - 5pm\\nSat 9am -2pm\\n  43.0748  -89.5252  \n",
       "445             Mon - Fri 10am - 4pm\\nSat 10am - 2pm\\n  41.1063  -73.9887  \n",
       "504                                          Unknown\\n   41.614  -71.2571  \n",
       "508            Mon - Fri 9am -4.30 pm\\nSat 9am - 1pm\\n  29.7486  -95.3302  \n",
       "510                                          Unknown\\n  42.9268  -78.7008  \n",
       "595                                          Unknown\\n  51.3324 -0.268324  \n",
       "756  Mon - Fri 10am - 3pm\\nSat 10am - 12pm\\nSun Clo...  42.4282  -71.4716  \n",
       "796                                          Unknown\\n  45.3529  -75.7332  \n",
       "829                                          Unknown\\n  43.0178  -76.0884  "
      ]
     },
     "execution_count": 21,
     "metadata": {},
     "output_type": "execute_result"
    }
   ],
   "source": [
    "df[df['lat'] > 0]"
   ]
  },
  {
   "cell_type": "code",
   "execution_count": 24,
   "metadata": {},
   "outputs": [],
   "source": [
    "df['address'][595] = '320 Epsom Rd, Ascot Vale VIC 3032'\n",
    "df['address'][829] = 'Rossiter Rd, Carrum Downs VIC 3201'"
   ]
  },
  {
   "cell_type": "code",
   "execution_count": 25,
   "metadata": {},
   "outputs": [],
   "source": [
    "for i in range(len(df)):\n",
    "    if i >= 0:      \n",
    "        address = df['address'][i]\n",
    "        lat, lng = get_latitude_longtitude(address)\n",
    "        df['lat'][i] = lat\n",
    "        df['lng'][i] = lng"
   ]
  },
  {
   "cell_type": "code",
   "execution_count": 27,
   "metadata": {},
   "outputs": [],
   "source": [
    "##df[df['lat'] > 0]"
   ]
  },
  {
   "cell_type": "code",
   "execution_count": null,
   "metadata": {},
   "outputs": [],
   "source": []
  },
  {
   "cell_type": "code",
   "execution_count": 28,
   "metadata": {},
   "outputs": [],
   "source": [
    "df.to_csv('op_shop_list.csv')"
   ]
  },
  {
   "cell_type": "code",
   "execution_count": null,
   "metadata": {},
   "outputs": [],
   "source": []
  },
  {
   "cell_type": "code",
   "execution_count": null,
   "metadata": {},
   "outputs": [],
   "source": []
  }
 ],
 "metadata": {
  "kernelspec": {
   "display_name": "Python 3",
   "language": "python",
   "name": "python3"
  },
  "language_info": {
   "codemirror_mode": {
    "name": "ipython",
    "version": 3
   },
   "file_extension": ".py",
   "mimetype": "text/x-python",
   "name": "python",
   "nbconvert_exporter": "python",
   "pygments_lexer": "ipython3",
   "version": "3.6.4"
  }
 },
 "nbformat": 4,
 "nbformat_minor": 2
}
